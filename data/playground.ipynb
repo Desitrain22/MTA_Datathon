{
 "cells": [
  {
   "cell_type": "code",
   "execution_count": 129,
   "metadata": {},
   "outputs": [],
   "source": [
    "import pandas as pd\n",
    "df = pd.read_csv(\n",
    "    \"https://data.ny.gov/resource/wujg-7c2s.csv?$limit=500000000&$select=station_complex_id,transit_timestamp,sum(ridership)&$group=station_complex_id,transit_timestamp&$where=transit_timestamp>'2023-01-01T00:00:00'\"\n",
    ")\n",
    "# Hitting our magic endpoint -- this aggregates the complex ids, unique timestamps (date + hour) and ridership across all payments"
   ]
  },
  {
   "cell_type": "code",
   "execution_count": 3,
   "metadata": {},
   "outputs": [
    {
     "data": {
      "text/html": [
       "<div>\n",
       "<style scoped>\n",
       "    .dataframe tbody tr th:only-of-type {\n",
       "        vertical-align: middle;\n",
       "    }\n",
       "\n",
       "    .dataframe tbody tr th {\n",
       "        vertical-align: top;\n",
       "    }\n",
       "\n",
       "    .dataframe thead th {\n",
       "        text-align: right;\n",
       "    }\n",
       "</style>\n",
       "<table border=\"1\" class=\"dataframe\">\n",
       "  <thead>\n",
       "    <tr style=\"text-align: right;\">\n",
       "      <th></th>\n",
       "      <th>hours</th>\n",
       "      <th>station_complex_id</th>\n",
       "      <th>sum_ridership</th>\n",
       "    </tr>\n",
       "  </thead>\n",
       "  <tbody>\n",
       "    <tr>\n",
       "      <th>0</th>\n",
       "      <td>00</td>\n",
       "      <td>1</td>\n",
       "      <td>39.787402</td>\n",
       "    </tr>\n",
       "    <tr>\n",
       "      <th>1</th>\n",
       "      <td>00</td>\n",
       "      <td>10</td>\n",
       "      <td>293.478056</td>\n",
       "    </tr>\n",
       "    <tr>\n",
       "      <th>2</th>\n",
       "      <td>00</td>\n",
       "      <td>100</td>\n",
       "      <td>19.335962</td>\n",
       "    </tr>\n",
       "    <tr>\n",
       "      <th>3</th>\n",
       "      <td>00</td>\n",
       "      <td>101</td>\n",
       "      <td>96.899682</td>\n",
       "    </tr>\n",
       "    <tr>\n",
       "      <th>4</th>\n",
       "      <td>00</td>\n",
       "      <td>103</td>\n",
       "      <td>77.716443</td>\n",
       "    </tr>\n",
       "    <tr>\n",
       "      <th>...</th>\n",
       "      <td>...</td>\n",
       "      <td>...</td>\n",
       "      <td>...</td>\n",
       "    </tr>\n",
       "    <tr>\n",
       "      <th>10267</th>\n",
       "      <td>23</td>\n",
       "      <td>97</td>\n",
       "      <td>96.298742</td>\n",
       "    </tr>\n",
       "    <tr>\n",
       "      <th>10268</th>\n",
       "      <td>23</td>\n",
       "      <td>98</td>\n",
       "      <td>54.735016</td>\n",
       "    </tr>\n",
       "    <tr>\n",
       "      <th>10269</th>\n",
       "      <td>23</td>\n",
       "      <td>99</td>\n",
       "      <td>37.529874</td>\n",
       "    </tr>\n",
       "    <tr>\n",
       "      <th>10270</th>\n",
       "      <td>23</td>\n",
       "      <td>TRAM1</td>\n",
       "      <td>72.079937</td>\n",
       "    </tr>\n",
       "    <tr>\n",
       "      <th>10271</th>\n",
       "      <td>23</td>\n",
       "      <td>TRAM2</td>\n",
       "      <td>44.615987</td>\n",
       "    </tr>\n",
       "  </tbody>\n",
       "</table>\n",
       "<p>10272 rows × 3 columns</p>\n",
       "</div>"
      ],
      "text/plain": [
       "      hours station_complex_id  sum_ridership\n",
       "0        00                  1      39.787402\n",
       "1        00                 10     293.478056\n",
       "2        00                100      19.335962\n",
       "3        00                101      96.899682\n",
       "4        00                103      77.716443\n",
       "...     ...                ...            ...\n",
       "10267    23                 97      96.298742\n",
       "10268    23                 98      54.735016\n",
       "10269    23                 99      37.529874\n",
       "10270    23              TRAM1      72.079937\n",
       "10271    23              TRAM2      44.615987\n",
       "\n",
       "[10272 rows x 3 columns]"
      ]
     },
     "execution_count": 3,
     "metadata": {},
     "output_type": "execute_result"
    }
   ],
   "source": [
    "from utils import get_mean_hourly_ridership, get_station_ridership\n",
    "\n",
    "\n",
    "def get_mean_hourly_ridership(\n",
    "    csv: str = \"https://data.ny.gov/resource/wujg-7c2s.csv?$limit=500000000&$select=station_complex_id,transit_timestamp,sum(ridership)&$group=station_complex_id,transit_timestamp&$where=transit_timestamp>'2023-01-01T00:00:00'\",\n",
    "):\n",
    "    \"\"\"This function reads in the data from the csv file and returns the mean hourly ridership for each station complex.\"\"\"\n",
    "    df = pd.read_csv(csv)  # Read in the data.\n",
    "    df[\"hours\"] = df[\"transit_timestamp\"].apply(\n",
    "        lambda x: x.split(\"T\")[1].split(\":\")[0]\n",
    "    )  # Adding a column of just the hours (24 hour military scale).\n",
    "\n",
    "    return (\n",
    "        df.groupby([\"hours\", \"station_complex_id\"])[\"sum_ridership\"]\n",
    "        .mean()\n",
    "        .reset_index()\n",
    "    ) # Now, we get the mean ridership for each station complex for each hour of the day. \n",
    "\n",
    "\n",
    "get_mean_hourly_ridership() # Our output is an unordered table of complex ids, hours, and their annual mean ridership at that hour (across all days)"
   ]
  },
  {
   "cell_type": "code",
   "execution_count": 2,
   "metadata": {},
   "outputs": [
    {
     "data": {
      "text/plain": [
       "{'hours': '00',\n",
       " 'station_complex_id': '628',\n",
       " 'sum_ridership': np.float64(434.6332288401254)}"
      ]
     },
     "execution_count": 2,
     "metadata": {},
     "output_type": "execute_result"
    }
   ],
   "source": [
    "# Get the mean hourly ridership at midnight for every day for complex station 628.\n",
    "\n",
    "def get_station_ridership(\n",
    "    complex_id: str,\n",
    "    hour: str,\n",
    "    df: pd.DataFrame,\n",
    "):\n",
    "    return dict(\n",
    "        df[(df[\"station_complex_id\"] == complex_id) & (df[\"hours\"] == hour)].iloc[0] # Now, we need a consistent way to filter to get a station's ridership at a given hour.\n",
    "    )\n",
    "\n",
    "\n",
    "get_station_ridership(\n",
    "    \"628\", \"0\", get_mean_hourly_ridership()\n",
    ")\n",
    "\n",
    "# Nice! Now we can set up an endpoint for the front end to retrieve specific metrics for a station at a given hour."
   ]
  },
  {
   "cell_type": "code",
   "execution_count": 22,
   "metadata": {},
   "outputs": [
    {
     "data": {
      "text/plain": [
       "{'hours': '0',\n",
       " 'station_complex_id': '628',\n",
       " 'sum_ridership': np.float64(434.6332288401)}"
      ]
     },
     "execution_count": 22,
     "metadata": {},
     "output_type": "execute_result"
    }
   ],
   "source": [
    "import pandas as pd\n",
    "df = pd.read_json(\"outputs/new_ridership.json\")\n",
    "\n",
    "\n",
    "def get_station_ridership(\n",
    "    complex_id: str,\n",
    "    hour: int,\n",
    "    df: pd.DataFrame,\n",
    "):\n",
    "    df[\"hours\"] = df[\"hours\"].astype(str)\n",
    "    return dict(df[(df[\"station_complex_id\"] == complex_id) & (df[\"hours\"] == hour)].iloc[0])\n",
    "\n",
    "\n",
    "get_station_ridership(\"628\", \"0\", df)"
   ]
  },
  {
   "cell_type": "code",
   "execution_count": 47,
   "metadata": {},
   "outputs": [
    {
     "data": {
      "text/plain": [
       "sum_ridership    620.007825\n",
       "Name: 10, dtype: float64"
      ]
     },
     "execution_count": 47,
     "metadata": {},
     "output_type": "execute_result"
    }
   ],
   "source": [
    "import pandas as pd\n",
    "\n",
    "df = pd.read_json(\"outputs/new_ridership.json\")\n",
    "stations = [\"10\", \"628\", \"TRAM1\"]\n",
    "filtered_df = df[df[\"station_complex_id\"].isin(stations) & (df[\"hours\"] == 12)][[\n",
    "    \"station_complex_id\", \"sum_ridership\"]\n",
    "].set_index(\"station_complex_id\")\n",
    "dict(filtered_df.T)['10']"
   ]
  },
  {
   "cell_type": "code",
   "execution_count": 16,
   "metadata": {},
   "outputs": [
    {
     "data": {
      "text/plain": [
       "array([ 0,  1,  2, 23])"
      ]
     },
     "execution_count": 16,
     "metadata": {},
     "output_type": "execute_result"
    }
   ],
   "source": [
    "import pandas as pd\n",
    "df = pd.read_json(\"outputs/new_ridership.json\")\n",
    "\n",
    "def time_of_day(hour: int):\n",
    "    if hour in range(3, 7):\n",
    "        return \"Early Morning\"\n",
    "    elif hour in range(7, 11):\n",
    "        return \"Morning\"\n",
    "    elif hour in range(11, 15):\n",
    "        return \"Midday\"\n",
    "    elif hour in range(15, 19):\n",
    "        return \"Afternoon\"\n",
    "    elif hour in range(19, 23):\n",
    "        return \"Evening\"\n",
    "    else:\n",
    "        return \"Overnight\"\n",
    "\n",
    "#Now, we need to define our strata for the time of day. We need to do this, as \n",
    "df[\"time_of_day\"] = df[\"hours\"].apply(lambda x: time_of_day(int(x)))\n",
    "df[df[\"time_of_day\"] == \"Overnight\"]['hours'].unique() # Should only be the range of [23, 0, 1, 2]"
   ]
  },
  {
   "cell_type": "code",
   "execution_count": 18,
   "metadata": {},
   "outputs": [
    {
     "data": {
      "text/html": [
       "<div>\n",
       "<style scoped>\n",
       "    .dataframe tbody tr th:only-of-type {\n",
       "        vertical-align: middle;\n",
       "    }\n",
       "\n",
       "    .dataframe tbody tr th {\n",
       "        vertical-align: top;\n",
       "    }\n",
       "\n",
       "    .dataframe thead th {\n",
       "        text-align: right;\n",
       "    }\n",
       "</style>\n",
       "<table border=\"1\" class=\"dataframe\">\n",
       "  <thead>\n",
       "    <tr style=\"text-align: right;\">\n",
       "      <th></th>\n",
       "      <th>hours</th>\n",
       "      <th>station_complex_id</th>\n",
       "      <th>sum_ridership</th>\n",
       "      <th>time_of_day</th>\n",
       "    </tr>\n",
       "  </thead>\n",
       "  <tbody>\n",
       "    <tr>\n",
       "      <th>0</th>\n",
       "      <td>0</td>\n",
       "      <td>1</td>\n",
       "      <td>39.787402</td>\n",
       "      <td>Overnight</td>\n",
       "    </tr>\n",
       "    <tr>\n",
       "      <th>1</th>\n",
       "      <td>0</td>\n",
       "      <td>10</td>\n",
       "      <td>293.478056</td>\n",
       "      <td>Overnight</td>\n",
       "    </tr>\n",
       "    <tr>\n",
       "      <th>2</th>\n",
       "      <td>0</td>\n",
       "      <td>100</td>\n",
       "      <td>19.335962</td>\n",
       "      <td>Overnight</td>\n",
       "    </tr>\n",
       "    <tr>\n",
       "      <th>3</th>\n",
       "      <td>0</td>\n",
       "      <td>101</td>\n",
       "      <td>96.899682</td>\n",
       "      <td>Overnight</td>\n",
       "    </tr>\n",
       "    <tr>\n",
       "      <th>4</th>\n",
       "      <td>0</td>\n",
       "      <td>103</td>\n",
       "      <td>77.716443</td>\n",
       "      <td>Overnight</td>\n",
       "    </tr>\n",
       "    <tr>\n",
       "      <th>...</th>\n",
       "      <td>...</td>\n",
       "      <td>...</td>\n",
       "      <td>...</td>\n",
       "      <td>...</td>\n",
       "    </tr>\n",
       "    <tr>\n",
       "      <th>10267</th>\n",
       "      <td>23</td>\n",
       "      <td>97</td>\n",
       "      <td>96.298742</td>\n",
       "      <td>Overnight</td>\n",
       "    </tr>\n",
       "    <tr>\n",
       "      <th>10268</th>\n",
       "      <td>23</td>\n",
       "      <td>98</td>\n",
       "      <td>54.735016</td>\n",
       "      <td>Overnight</td>\n",
       "    </tr>\n",
       "    <tr>\n",
       "      <th>10269</th>\n",
       "      <td>23</td>\n",
       "      <td>99</td>\n",
       "      <td>37.529874</td>\n",
       "      <td>Overnight</td>\n",
       "    </tr>\n",
       "    <tr>\n",
       "      <th>10270</th>\n",
       "      <td>23</td>\n",
       "      <td>TRAM1</td>\n",
       "      <td>72.079937</td>\n",
       "      <td>Overnight</td>\n",
       "    </tr>\n",
       "    <tr>\n",
       "      <th>10271</th>\n",
       "      <td>23</td>\n",
       "      <td>TRAM2</td>\n",
       "      <td>44.615987</td>\n",
       "      <td>Overnight</td>\n",
       "    </tr>\n",
       "  </tbody>\n",
       "</table>\n",
       "<p>10272 rows × 4 columns</p>\n",
       "</div>"
      ],
      "text/plain": [
       "       hours station_complex_id  sum_ridership time_of_day\n",
       "0          0                  1      39.787402   Overnight\n",
       "1          0                 10     293.478056   Overnight\n",
       "2          0                100      19.335962   Overnight\n",
       "3          0                101      96.899682   Overnight\n",
       "4          0                103      77.716443   Overnight\n",
       "...      ...                ...            ...         ...\n",
       "10267     23                 97      96.298742   Overnight\n",
       "10268     23                 98      54.735016   Overnight\n",
       "10269     23                 99      37.529874   Overnight\n",
       "10270     23              TRAM1      72.079937   Overnight\n",
       "10271     23              TRAM2      44.615987   Overnight\n",
       "\n",
       "[10272 rows x 4 columns]"
      ]
     },
     "execution_count": 18,
     "metadata": {},
     "output_type": "execute_result"
    }
   ],
   "source": [
    "# Nice, now we write this out to use as a 'database' for our app. Pre-processing helps reduce the response time, since we're avoiding pandas computations (albeit, vectorized).\n",
    "df.to_json(\"outputs/new_ridership_times.json\")\n",
    "pd.read_json(\"outputs/new_ridership_times.json\")"
   ]
  }
 ],
 "metadata": {
  "kernelspec": {
   "display_name": ".venv",
   "language": "python",
   "name": "python3"
  },
  "language_info": {
   "codemirror_mode": {
    "name": "ipython",
    "version": 3
   },
   "file_extension": ".py",
   "mimetype": "text/x-python",
   "name": "python",
   "nbconvert_exporter": "python",
   "pygments_lexer": "ipython3",
   "version": "3.12.3"
  }
 },
 "nbformat": 4,
 "nbformat_minor": 2
}
